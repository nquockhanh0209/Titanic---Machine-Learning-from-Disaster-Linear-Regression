{
  "nbformat": 4,
  "nbformat_minor": 0,
  "metadata": {
    "colab": {
      "provenance": [],
      "authorship_tag": "ABX9TyNmgSX7DtgPFD3vJl5cbwCW",
      "include_colab_link": true
    },
    "kernelspec": {
      "name": "python3",
      "display_name": "Python 3"
    },
    "language_info": {
      "name": "python"
    }
  },
  "cells": [
    {
      "cell_type": "markdown",
      "metadata": {
        "id": "view-in-github",
        "colab_type": "text"
      },
      "source": [
        "<a href=\"https://colab.research.google.com/github/nquockhanh0209/Titanic---Machine-Learning-from-Disaster-Linear-Regression/blob/main/Titanic_kaggle_linear_regression.ipynb\" target=\"_parent\"><img src=\"https://colab.research.google.com/assets/colab-badge.svg\" alt=\"Open In Colab\"/></a>"
      ]
    },
    {
      "cell_type": "code",
      "execution_count": 25,
      "metadata": {
        "colab": {
          "base_uri": "https://localhost:8080/"
        },
        "id": "J-vXHImHNUGU",
        "outputId": "c0a39d45-8fc7-486e-c102-d9b33a2d8f96"
      },
      "outputs": [
        {
          "output_type": "stream",
          "name": "stdout",
          "text": [
            "418\n",
            "418\n",
            "Mean Squared Error: 0.36363636363636365\n",
            "R^2 Score: -0.5714285714285714\n",
            "0.6363636363636364\n"
          ]
        }
      ],
      "source": [
        "import pandas as pd\n",
        "from sklearn import linear_model\n",
        "from sklearn.metrics import mean_squared_error, r2_score, accuracy_score\n",
        "X_train= pd.read_csv('titanic/train.csv')\n",
        "for column in X_train.columns:\n",
        "  if(X_train[column].dtype == 'int64' or X_train[column].dtype == 'float64'):\n",
        "    for i, val in enumerate(X_train[column]):\n",
        "      if pd.isna(val):\n",
        "        X_train.at[i, column] = X_train[column].median()\n",
        "  else:\n",
        "    X_train.drop(column, axis=1, inplace=True)\n",
        "Y_train = X_train['Survived']\n",
        "X_train = X_train.drop('Survived', axis=1)\n",
        "Y_test = pd.read_csv('titanic/gender_submission.csv')\n",
        "X_test= pd.read_csv('titanic/test.csv')\n",
        "for column in X_test.columns:\n",
        "  if(X_test[column].dtype == 'int64' or X_test[column].dtype == 'float64'):\n",
        "    for i, val in enumerate(X_test[column]):\n",
        "      if pd.isna(val):\n",
        "        X_test.at[i, column] = X_test[column].median()\n",
        "  else:\n",
        "    X_test.drop(column, axis=1, inplace=True)\n",
        "\n",
        "regr = linear_model.LinearRegression()\n",
        "regr.fit(X_train, Y_train)\n",
        "\n",
        "y_pred = regr.predict(X_test)\n",
        "y_pred_nice = []\n",
        "for y in y_pred:\n",
        "  if y>0.5: y =1\n",
        "  if y<0.5: y =0\n",
        "  y_pred_nice.append(y)\n",
        "print(len(y_pred_nice))\n",
        "print(len(Y_test))\n",
        "\n",
        "# Evaluate the model's performance\n",
        "mse = mean_squared_error(Y_test['Survived'], y_pred_nice)\n",
        "r2 = r2_score(Y_test['Survived'], y_pred_nice)\n",
        "accuracy_score = accuracy_score(Y_test['Survived'], y_pred_nice)\n",
        "print(\"Mean Squared Error:\", mse)\n",
        "print(\"R^2 Score:\", r2)\n",
        "print(accuracy_score)\n"
      ]
    }
  ]
}